{
 "cells": [
  {
   "cell_type": "code",
   "execution_count": 1,
   "metadata": {},
   "outputs": [],
   "source": [
    "import pandas as pd"
   ]
  },
  {
   "cell_type": "code",
   "execution_count": 17,
   "metadata": {
    "scrolled": true
   },
   "outputs": [],
   "source": [
    "path=\"D:/Trinity_DS/AdvancedSoftwareEngineernig/Project/Traffic/TransformedData/\"\n",
    "file=\"DIS_GPS_rolledup.csv\"\n",
    "df=pd.read_csv(path+file)\n",
    "df['date']=pd.to_datetime(df['date'])\n",
    "df['hours']=df['date'].dt.hour\n",
    "df['day']=df['date'].dt.day\n",
    "df['month']=df['date'].dt.month"
   ]
  },
  {
   "cell_type": "code",
   "execution_count": 27,
   "metadata": {},
   "outputs": [],
   "source": [
    "df = df[['zone','hours','day','month','aggerateCount']]\n",
    "newdf=df.groupby(['zone','hours','day','month']).agg({'aggerateCount':sum}).reset_index()"
   ]
  },
  {
   "cell_type": "code",
   "execution_count": 30,
   "metadata": {},
   "outputs": [
    {
     "name": "stdout",
     "output_type": "stream",
     "text": [
      "        zone  hours  day  month  aggerateCount\n",
      "0      CCITY      0    1      1          17098\n",
      "1      CCITY      0    1      2          21325\n",
      "2      CCITY      0    1      3          18508\n",
      "3      CCITY      0    1      4          16556\n",
      "4      CCITY      0    2      1          20426\n",
      "5      CCITY      0    2      2          20762\n",
      "6      CCITY      0    2      3          19225\n",
      "7      CCITY      0    2      4          21972\n",
      "8      CCITY      0    3      1          19691\n",
      "9      CCITY      0    3      2          19689\n",
      "10     CCITY      0    3      3          16895\n",
      "11     CCITY      0    3      4          21976\n",
      "12     CCITY      0    4      1          20272\n",
      "13     CCITY      0    4      2          16773\n",
      "14     CCITY      0    4      3          17614\n",
      "15     CCITY      0    4      4          21115\n",
      "16     CCITY      0    5      1          19360\n",
      "17     CCITY      0    5      2          17482\n",
      "18     CCITY      0    5      3          20800\n",
      "19     CCITY      0    5      4          21773\n",
      "20     CCITY      0    6      1          19364\n",
      "21     CCITY      0    6      2          20754\n",
      "22     CCITY      0    6      3          21711\n",
      "23     CCITY      0    6      4          18520\n",
      "24     CCITY      0    7      1          17838\n",
      "25     CCITY      0    7      2          21246\n",
      "26     CCITY      0    7      3          21267\n",
      "27     CCITY      0    7      4          18772\n",
      "28     CCITY      0    8      1          17993\n",
      "29     CCITY      0    8      2          20634\n",
      "...      ...    ...  ...    ...            ...\n",
      "11582  WCITY     23   23      3          20509\n",
      "11583  WCITY     23   23      4          22886\n",
      "11584  WCITY     23   24      1          21171\n",
      "11585  WCITY     23   24      2          20690\n",
      "11586  WCITY     23   24      3          20021\n",
      "11587  WCITY     23   24      4          23084\n",
      "11588  WCITY     23   25      1          21404\n",
      "11589  WCITY     23   25      2          20534\n",
      "11590  WCITY     23   25      3          24444\n",
      "11591  WCITY     23   25      4          22468\n",
      "11592  WCITY     23   26      1          20934\n",
      "11593  WCITY     23   26      2          21531\n",
      "11594  WCITY     23   26      3          22640\n",
      "11595  WCITY     23   26      4          21781\n",
      "11596  WCITY     23   27      1          20234\n",
      "11597  WCITY     23   27      2          21275\n",
      "11598  WCITY     23   27      3          22508\n",
      "11599  WCITY     23   27      4          20929\n",
      "11600  WCITY     23   28      1          20368\n",
      "11601  WCITY     23   28      2          21242\n",
      "11602  WCITY     23   28      3          22265\n",
      "11603  WCITY     23   28      4          20666\n",
      "11604  WCITY     23   29      1          21745\n",
      "11605  WCITY     23   29      2          20405\n",
      "11606  WCITY     23   29      3          21433\n",
      "11607  WCITY     23   29      4          22676\n",
      "11608  WCITY     23   30      1          22093\n",
      "11609  WCITY     23   30      3          20826\n",
      "11610  WCITY     23   31      1          21576\n",
      "11611  WCITY     23   31      3          20895\n",
      "\n",
      "[11612 rows x 5 columns]\n"
     ]
    }
   ],
   "source": [
    "print(newdf)\n",
    "newdf.to_csv(path+\"out.csv\",index = False)"
   ]
  }
 ],
 "metadata": {
  "kernelspec": {
   "display_name": "Python 3",
   "language": "python",
   "name": "python3"
  },
  "language_info": {
   "codemirror_mode": {
    "name": "ipython",
    "version": 3
   },
   "file_extension": ".py",
   "mimetype": "text/x-python",
   "name": "python",
   "nbconvert_exporter": "python",
   "pygments_lexer": "ipython3",
   "version": "3.6.5"
  }
 },
 "nbformat": 4,
 "nbformat_minor": 2
}
